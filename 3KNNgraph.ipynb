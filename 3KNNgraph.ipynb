{
 "cells": [
  {
   "cell_type": "code",
   "execution_count": 6,
   "id": "4d462988",
   "metadata": {},
   "outputs": [],
   "source": [
    "import numpy as np\n",
    "from sklearn.neighbors import kneighbors_graph\n",
    "from scipy.sparse import save_npz"
   ]
  },
  {
   "cell_type": "code",
   "execution_count": 27,
   "id": "6ff412f5",
   "metadata": {},
   "outputs": [
    {
     "name": "stdout",
     "output_type": "stream",
     "text": [
      "(242504, 768)\n"
     ]
    }
   ],
   "source": [
    "RESULT_DIR = '/scratch/gilbreth/das90/Dataset/RESULTS/'\n",
    "filename = RESULT_DIR+'2VW24DistilBERTClassVec.txt'\n",
    "\n",
    "rep=np.loadtxt(filename, dtype=float)\n",
    "# rep=np.loadtxt(filename, dtype=float, max_rows=20)\n",
    "\n",
    "print(rep.shape)"
   ]
  },
  {
   "cell_type": "code",
   "execution_count": 28,
   "id": "52006925",
   "metadata": {},
   "outputs": [],
   "source": [
    "k = 5\n",
    "graph = kneighbors_graph(rep, n_neighbors=k, mode='distance', metric='cosine', include_self=False, n_jobs=-1)"
   ]
  },
  {
   "cell_type": "code",
   "execution_count": 29,
   "id": "00fb46eb",
   "metadata": {},
   "outputs": [],
   "source": [
    "save_npz(RESULT_DIR+'CVE_graph_K_'+str(k)+'.npz', graph)"
   ]
  },
  {
   "cell_type": "code",
   "execution_count": 25,
   "id": "3da7ad1e",
   "metadata": {},
   "outputs": [],
   "source": [
    "#graph = load_npz(RESULT_DIR+'CVE_graph_K_'+str(k)+'.npz')"
   ]
  },
  {
   "cell_type": "code",
   "execution_count": null,
   "id": "bd03485b",
   "metadata": {},
   "outputs": [],
   "source": []
  },
  {
   "cell_type": "code",
   "execution_count": null,
   "id": "1a481723",
   "metadata": {},
   "outputs": [],
   "source": []
  }
 ],
 "metadata": {
  "kernelspec": {
   "display_name": "Python (My py311cu117pyg200 Kernel)",
   "language": "python",
   "name": "py311cu117pyg200"
  },
  "language_info": {
   "codemirror_mode": {
    "name": "ipython",
    "version": 3
   },
   "file_extension": ".py",
   "mimetype": "text/x-python",
   "name": "python",
   "nbconvert_exporter": "python",
   "pygments_lexer": "ipython3",
   "version": "3.11.4"
  }
 },
 "nbformat": 4,
 "nbformat_minor": 5
}
