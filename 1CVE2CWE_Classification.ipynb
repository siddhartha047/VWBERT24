{
 "cells": [
  {
   "cell_type": "code",
   "execution_count": 56,
   "id": "04248881",
   "metadata": {},
   "outputs": [],
   "source": [
    "import DeviceDir\n",
    "\n",
    "DIR, RESULTS_DIR = DeviceDir.get_directory()\n",
    "device, NUM_PROCESSORS = DeviceDir.get_device()\n",
    "\n",
    "DATASET_DIR = './VWCADataset/'"
   ]
  },
  {
   "cell_type": "markdown",
   "id": "a1095f1f",
   "metadata": {},
   "source": [
    "### libraries"
   ]
  },
  {
   "cell_type": "code",
   "execution_count": 57,
   "id": "35efcdb2",
   "metadata": {},
   "outputs": [],
   "source": [
    "import pandas as pd"
   ]
  },
  {
   "cell_type": "code",
   "execution_count": null,
   "id": "e72fec60",
   "metadata": {},
   "outputs": [],
   "source": []
  },
  {
   "cell_type": "markdown",
   "id": "c19cbcfd",
   "metadata": {},
   "source": [
    "### Dataset preprocessing"
   ]
  },
  {
   "cell_type": "code",
   "execution_count": 58,
   "id": "7ac013a1",
   "metadata": {},
   "outputs": [],
   "source": [
    "df_CVE = pd.read_csv(DATASET_DIR+'cve_data.csv',low_memory=False)\n",
    "df_CWE = pd.read_csv(DATASET_DIR+'cwe_data.csv',low_memory=False)"
   ]
  },
  {
   "cell_type": "code",
   "execution_count": 59,
   "id": "fe7b7b9c",
   "metadata": {},
   "outputs": [
    {
     "data": {
      "text/plain": [
       "'ip_input.c in BSD-derived TCP/IP implementations allows remote attackers to cause a denial of service (crash or hang) via crafted packets.'"
      ]
     },
     "execution_count": 59,
     "metadata": {},
     "output_type": "execute_result"
    }
   ],
   "source": [
    "df_CVE['Description'][0]"
   ]
  },
  {
   "cell_type": "markdown",
   "id": "5227842b",
   "metadata": {},
   "source": [
    "### LLMs"
   ]
  },
  {
   "cell_type": "code",
   "execution_count": 60,
   "id": "9cc3d85b",
   "metadata": {},
   "outputs": [],
   "source": [
    "import torch\n",
    "from transformers import DistilBertTokenizer, DistilBertModel"
   ]
  },
  {
   "cell_type": "code",
   "execution_count": 61,
   "id": "1d28cbda",
   "metadata": {},
   "outputs": [],
   "source": [
    "tokenizer = DistilBertTokenizer.from_pretrained('distilbert-base-uncased')\n",
    "model = DistilBertModel.from_pretrained(\"distilbert-base-uncased\")"
   ]
  },
  {
   "cell_type": "code",
   "execution_count": 64,
   "id": "2b97b8e6",
   "metadata": {},
   "outputs": [
    {
     "data": {
      "text/plain": [
       "torch.Size([1, 768])"
      ]
     },
     "execution_count": 64,
     "metadata": {},
     "output_type": "execute_result"
    }
   ],
   "source": [
    "#text = \"Replace me by any text you'd like.\"\n",
    "\n",
    "text = df_CVE['Description'][0]\n",
    "\n",
    "encoded_input = tokenizer(text, return_tensors='pt')\n",
    "output = model(**encoded_input)\n",
    "output.last_hidden_state.shape\n",
    "\n",
    "output.last_hidden_state[:,0].shape"
   ]
  },
  {
   "cell_type": "markdown",
   "id": "c227100d",
   "metadata": {},
   "source": [
    "### Training\n",
    "\n",
    "- https://colab.research.google.com/github/abhimishra91/transformers-tutorials/blob/master/transformers_multiclass_classification.ipynb#scrollTo=rcUi1Gd5KCzC\n",
    "\n",
    "- https://huggingface.co/distilbert/distilbert-base-uncased\n",
    "\n",
    "- https://colab.research.google.com/github/DhavalTaunk08/Transformers_scripts/blob/master/Transformers_multilabel_distilbert.ipynb#scrollTo=MZ_wI0YwDVJZ"
   ]
  },
  {
   "cell_type": "code",
   "execution_count": null,
   "id": "60e068f7",
   "metadata": {},
   "outputs": [],
   "source": []
  }
 ],
 "metadata": {
  "kernelspec": {
   "display_name": "Python (My py311cu117pyg200 Kernel)",
   "language": "python",
   "name": "py311cu117pyg200"
  },
  "language_info": {
   "codemirror_mode": {
    "name": "ipython",
    "version": 3
   },
   "file_extension": ".py",
   "mimetype": "text/x-python",
   "name": "python",
   "nbconvert_exporter": "python",
   "pygments_lexer": "ipython3",
   "version": "3.11.4"
  }
 },
 "nbformat": 4,
 "nbformat_minor": 5
}
